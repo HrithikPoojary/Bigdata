from pyspark.sql import SparkSession

spark = SparkSession.builder\
.appName("CustomerDataProcessing")\
.master("yarn")\
.getOrCreate()
